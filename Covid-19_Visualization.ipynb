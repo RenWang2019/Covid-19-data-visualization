{
 "cells": [
  {
   "cell_type": "code",
   "execution_count": null,
   "metadata": {},
   "outputs": [],
   "source": [
    "import pandas as pd\n",
    "import numpy as np\n",
    "import warnings\n",
    "warnings.filterwarnings('ignore')\n",
    "warnings.simplefilter('ignore')"
   ]
  },
  {
   "cell_type": "markdown",
   "metadata": {},
   "source": [
    "## Download the data into dataframe"
   ]
  },
  {
   "cell_type": "code",
   "execution_count": null,
   "metadata": {},
   "outputs": [],
   "source": [
    "confirmed_cases_url = 'https://raw.githubusercontent.com/CSSEGISandData/COVID-19/master/csse_covid_19_data/csse_covid_19_time_series/time_series_covid19_confirmed_global.csv'\n",
    "death_cases_url = 'https://raw.githubusercontent.com/CSSEGISandData/COVID-19/master/csse_covid_19_data/csse_covid_19_time_series/time_series_covid19_deaths_global.csv'\n",
    "recovered_cases_url = 'https://raw.githubusercontent.com/CSSEGISandData/COVID-19/master/csse_covid_19_data/csse_covid_19_time_series/time_series_covid19_recovered_global.csv'"
   ]
  },
  {
   "cell_type": "code",
   "execution_count": null,
   "metadata": {},
   "outputs": [],
   "source": [
    "confirmed_df = pd.read_csv(confirmed_cases_url)\n",
    "death_df = pd.read_csv(death_cases_url)\n",
    "recovered_df = pd.read_csv(recovered_cases_url)"
   ]
  },
  {
   "cell_type": "code",
   "execution_count": null,
   "metadata": {},
   "outputs": [],
   "source": [
    "confirmed_df = confirmed_df.drop(['Province/State','Lat','Long'],axis = 1)\n",
    "death_df = death_df.drop(['Province/State','Lat','Long'],axis = 1)\n",
    "recovered_df = recovered_df.drop(['Province/State','Lat','Long'],axis = 1)"
   ]
  },
  {
   "cell_type": "code",
   "execution_count": null,
   "metadata": {},
   "outputs": [],
   "source": [
    "global_confirmed = confirmed_df.copy()\n",
    "global_confirmed = pd.DataFrame(global_confirmed.sum()).transpose().drop(['Country/Region'],axis = 1)\n",
    "global_death = death_df.copy()\n",
    "global_death = pd.DataFrame(global_death.sum()).transpose().drop(['Country/Region'],axis = 1)\n",
    "global_recovered = recovered_df.copy()\n",
    "global_recovered = pd.DataFrame(global_recovered.sum()).transpose().drop(['Country/Region'],axis = 1)\n",
    "global_active = pd.DataFrame(\n",
    "    data = np.array(\n",
    "        [a-b-c for a,b,c in zip(global_confirmed.values[0],global_death.values[0],global_recovered.values[0])]\n",
    "    )\n",
    "\n",
    ")\n",
    "global_active = global_active.transpose()"
   ]
  },
  {
   "cell_type": "code",
   "execution_count": null,
   "metadata": {},
   "outputs": [],
   "source": [
    "confirmed = confirmed_df.copy().groupby('Country/Region').sum()\n",
    "death = death_df.copy().groupby('Country/Region').sum()\n",
    "recovered = recovered_df.copy().groupby('Country/Region').sum()\n",
    "active = pd.DataFrame(\n",
    "    index = confirmed.index,columns = confirmed.columns,\n",
    "    data = np.array(\n",
    "        [a-b-c for a,b,c in zip(confirmed.values,death.values,recovered.values)]\n",
    "    )\n",
    ")\n"
   ]
  },
  {
   "cell_type": "code",
   "execution_count": null,
   "metadata": {
    "scrolled": true
   },
   "outputs": [],
   "source": [
    "active = active.reset_index()"
   ]
  },
  {
   "cell_type": "code",
   "execution_count": null,
   "metadata": {},
   "outputs": [],
   "source": [
    "country = np.array(active['Country/Region'])"
   ]
  },
  {
   "cell_type": "code",
   "execution_count": null,
   "metadata": {},
   "outputs": [],
   "source": [
    "import pycountry_convert as pc\n",
    "continent = {}\n",
    "for i in country:\n",
    "    try:\n",
    "        country_code = pc.country_name_to_country_alpha2(i, cn_name_format=\"default\")\n",
    "        continent_name = pc.country_alpha2_to_continent_code(country_code)\n",
    "        continent[i] = continent_name\n",
    "    except:\n",
    "        print(i)"
   ]
  },
  {
   "cell_type": "code",
   "execution_count": null,
   "metadata": {},
   "outputs": [],
   "source": [
    "continent[\"Burma\"] = \"AS\"\n",
    "continent[\"Congo (Brazzaville)\"] = \"AF\"\n",
    "continent[\"Congo (Kinshasa)\"] = \"AF\"\n",
    "continent[\"Cote d'Ivoire\"] = \"AF\"\n",
    "continent[\"US\"] = \"NA\"\n",
    "continent[\"Holy See\"] = \"EU\"\n",
    "continent[\"Korea, South\"] = \"AS\"\n",
    "continent[\"Kosovo\"] = \"EU\"\n",
    "continent[\"Taiwan\"] = \"AS\"\n",
    "continent[\"Timor-Leste\"] = \"AS\"\n",
    "continent[\"West Bank and Gaza\"] = 'AS'\n",
    "continent[\"Western Sahara\"] = 'AF'"
   ]
  },
  {
   "cell_type": "markdown",
   "metadata": {},
   "source": [
    "# Scatter Plots, treemap and animation"
   ]
  },
  {
   "cell_type": "code",
   "execution_count": null,
   "metadata": {},
   "outputs": [],
   "source": [
    "import plotly\n",
    "import plotly.offline as pyo\n",
    "import plotly.graph_objects as go\n",
    "import plotly.express as px\n",
    "pyo.init_notebook_mode()"
   ]
  },
  {
   "cell_type": "markdown",
   "metadata": {},
   "source": [
    "### Scatter plots"
   ]
  },
  {
   "cell_type": "code",
   "execution_count": null,
   "metadata": {},
   "outputs": [],
   "source": [
    "'''Total Confirmed cases'''\n",
    "data = go.Scatter(x = global_confirmed.columns,\n",
    "                                    y=global_confirmed.values[0],\n",
    "                                    mode = 'lines',\n",
    "                                    name = 'World',\n",
    "                                    line = dict(color='firebrick',width = 2))\n",
    "fig1 = go.Figure(data)\n",
    "fig1.update_layout(title = \"Total Covid-19 Confirmed Cases(Global)\",\n",
    "                  yaxis_title = 'Number of Cases',xaxis_tickangle = 315)\n",
    "fig1.show()"
   ]
  },
  {
   "cell_type": "code",
   "execution_count": null,
   "metadata": {},
   "outputs": [],
   "source": [
    "'''Comparing the four data set'''\n",
    "fig2 = go.Figure()\n",
    "fig2.add_trace(go.Scatter(x = global_confirmed.columns,\n",
    "                                    y=global_confirmed.values[0],\n",
    "                                    mode = 'lines',\n",
    "                                    name = 'Confirmed Cases',\n",
    "                                    line = dict(color='firebrick',width = 2))\n",
    "              )\n",
    "fig2.add_trace(go.Scatter(x = global_death.columns,\n",
    "                                    y=global_death.values[0],\n",
    "                                    mode = 'lines',\n",
    "                                    name = 'Death',\n",
    "                                    line = dict(color='black',width = 2))\n",
    "              )\n",
    "fig2.add_trace(go.Scatter(x = global_recovered.columns,\n",
    "                                    y=global_recovered.values[0],\n",
    "                                    mode = 'lines',\n",
    "                                    name = 'Recovered Cases',\n",
    "                                    line = dict(color='green',width = 2))\n",
    "              )\n",
    "fig2.add_trace(go.Scatter(x = global_recovered.columns,\n",
    "                                    y=global_active.values[0],\n",
    "                                    mode = 'lines',\n",
    "                                    name = 'Active Cases',\n",
    "                                    line = dict(color='royalblue',width = 2))\n",
    "              )\n",
    "fig2.update_layout(title = \"Total Covid-19 Cases(Global)\",\n",
    "                  yaxis_title = 'Number of Cases',xaxis_tickangle = 315)\n",
    "fig2.show()\n"
   ]
  },
  {
   "cell_type": "code",
   "execution_count": null,
   "metadata": {},
   "outputs": [],
   "source": [
    "fig3=go.Figure()\n",
    "\n",
    "\n",
    "fig3.add_trace(go.Scatter(x = global_recovered.columns,\n",
    "                                    y=global_recovered.values[0],\n",
    "                                    name = 'Recovered Cases',\n",
    "                                    fill='tonexty',\n",
    "                                    mode='lines',\n",
    "                                    line=dict(width=0.05, color='green'),\n",
    "                                    stackgroup='one'\n",
    "                                    )\n",
    "              )\n",
    "fig3.add_trace(go.Scatter(x = global_recovered.columns,\n",
    "                                    y=global_active.values[0],\n",
    "                                    name = 'Active Cases',\n",
    "                                    fill='tonexty',\n",
    "                                    mode='lines',\n",
    "                                    line=dict(width=0.05, color='red'),\n",
    "                                    stackgroup='one'\n",
    "                                    )\n",
    "              )\n",
    "fig3.add_trace(go.Scatter(x = global_death.columns,\n",
    "                                    y=global_death.values[0],\n",
    "                                    name = 'Death',\n",
    "                                    fill='tonexty',\n",
    "                                    mode='lines',\n",
    "                                    line=dict(width=0.05, color='black'),\n",
    "                                    stackgroup='one'\n",
    "                                    )\n",
    "              )\n",
    "\n",
    "fig3.update_layout(title = \"Total Covid-19 Cases(Global)\",\n",
    "                  yaxis_title = 'Number of Cases',xaxis_tickangle = 315)\n",
    "\n",
    "\n",
    "\n",
    "fig3.show()"
   ]
  },
  {
   "cell_type": "markdown",
   "metadata": {},
   "source": [
    "### Treemap"
   ]
  },
  {
   "cell_type": "markdown",
   "metadata": {},
   "source": [
    "In information visualization and computing, treemapping is a method for displaying hierarchical data using nested figures, usually rectangles."
   ]
  },
  {
   "cell_type": "code",
   "execution_count": null,
   "metadata": {},
   "outputs": [],
   "source": [
    "df = pd.DataFrame(active[active.columns[-1]])\n",
    "df = df.rename({df.columns[0]:'Active'},axis=1)\n",
    "df['Confirmed'] = confirmed[confirmed.columns[-1]].values\n",
    "df['Country/Region'] = active['Country/Region']\n",
    "df['Continent'] = df['Country/Region'].map(continent)\n",
    "df['World'] = \"World\"\n",
    "df = df[~(df==0).any(axis=1)].dropna()\n",
    "fig4 = px.treemap(df, \n",
    "                  path=['World','Continent','Country/Region'], \n",
    "                  values='Active'\n",
    "                  )\n",
    "fig4.data[0].hovertemplate = '%{label}<br>Active Cases: %{value}'\n",
    "fig4.update_layout(title = \"Latest Active Covid-19 Cases(In different Country/Region)\")\n",
    "fig4.show()"
   ]
  },
  {
   "cell_type": "markdown",
   "metadata": {},
   "source": [
    "### Bar chart race"
   ]
  },
  {
   "cell_type": "code",
   "execution_count": null,
   "metadata": {},
   "outputs": [],
   "source": [
    "import matplotlib.pyplot as plt\n",
    "import matplotlib.ticker as ticker\n",
    "import matplotlib.animation as animation\n",
    "from IPython.display import HTML\n",
    "import random"
   ]
  },
  {
   "cell_type": "code",
   "execution_count": null,
   "metadata": {},
   "outputs": [],
   "source": [
    "df = pd.DataFrame(active)\n",
    "df['Country/Region'] = active['Country/Region']\n",
    "df['Continent'] = df['Country/Region'].map(continent)\n",
    "#Randomly generate a list of colors\n",
    "color = []\n",
    "a = 0\n",
    "while a < len(list(df['Country/Region'])):\n",
    "    i =random.uniform(0,1)\n",
    "    j = random.uniform(0,1)\n",
    "    h = random.uniform(0,1)\n",
    "    color.append((round(i,1),round(j,1),round(h,1)))\n",
    "    a += 1\n",
    "#Randomly assign colors to each 'Country/Region'\n",
    "colors = dict(zip(list(df['Country/Region']),color))\n",
    "#Make a dictionary between countries and continent\n",
    "group_lk = df.set_index('Country/Region')['Continent'].to_dict()"
   ]
  },
  {
   "cell_type": "code",
   "execution_count": null,
   "metadata": {},
   "outputs": [],
   "source": [
    "def draw_barchart(i):\n",
    "    date = list(confirmed.columns)[i]\n",
    "    dff = df.sort_values(by = date,ascending=True).tail(10)\n",
    "    ax.clear()\n",
    "    ax.barh(dff['Country/Region'], dff[date], color=[colors[x] for x in dff['Country/Region']])\n",
    "    dx = dff[date].max()/100\n",
    "    for i, case in enumerate(dff[date]):\n",
    "        ax.text(case+dx, i,     f'{case:,.0f}',  size=14, ha='left',  va='center')\n",
    "    # Changing Style\n",
    "    ax.text(1, 0.4, date, transform=ax.transAxes, color='#777777', size=46, ha='right', weight=800)\n",
    "    ax.text(0, 1.06, 'Active Covid-19 Cases', transform=ax.transAxes, size=12, color='#777777')\n",
    "    ax.xaxis.set_major_formatter(ticker.StrMethodFormatter('{x:,.0f}'))\n",
    "    ax.xaxis.set_ticks_position('top')\n",
    "    ax.tick_params(axis='x', colors='#777777', labelsize=12)\n",
    "    ax.set_yticks(dff['Country/Region'])\n",
    "    ax.margins(0, 0.01)\n",
    "    ax.grid(which='major', axis='x', linestyle='-')\n",
    "    ax.text(0, 1.12, 'Top 10 countries/regions with most active cases in the world',\n",
    "            transform=ax.transAxes, size=24, weight=600, ha='left')\n",
    "    ax.text(1, 0, 'Data from https://github.com/CSSEGISandData/COVID-19', transform=ax.transAxes, ha='right',\n",
    "            color='#777777', bbox=dict(facecolor='white', alpha=0.8, edgecolor='white'))\n",
    "    plt.box(False)\n",
    "    ax.set_axisbelow(True)\n",
    "    plt.box(False)"
   ]
  },
  {
   "cell_type": "code",
   "execution_count": null,
   "metadata": {},
   "outputs": [],
   "source": [
    "fig, ax = plt.subplots(figsize=(15, 8))\n",
    "anim = animation.FuncAnimation(fig, draw_barchart, frames=range(0,len(list(confirmed.columns))))\n",
    "f = r\"/Users/wangren/Covid-19-data-visualization/animation.gif\" \n",
    "writergif = animation.PillowWriter(fps=300) \n",
    "anim.save(f, writer=writergif)"
   ]
  },
  {
   "cell_type": "markdown",
   "metadata": {},
   "source": [
    "# Dynamic Mapping of Covid-19 "
   ]
  },
  {
   "cell_type": "code",
   "execution_count": null,
   "metadata": {},
   "outputs": [],
   "source": [
    "import geopandas as gpd\n",
    "import matplotlib.pyplot as plt\n",
    "import PIL\n",
    "import io"
   ]
  },
  {
   "cell_type": "code",
   "execution_count": null,
   "metadata": {},
   "outputs": [],
   "source": [
    "world = gpd.read_file(\n",
    "    '/Users/wangren/Covid-19-data-visualization/World_map/World_Countries.shp'\n",
    ")\n"
   ]
  },
  {
   "cell_type": "code",
   "execution_count": null,
   "metadata": {},
   "outputs": [],
   "source": [
    "name = np.array(world['COUNTRY'])"
   ]
  },
  {
   "cell_type": "code",
   "execution_count": null,
   "metadata": {},
   "outputs": [],
   "source": [
    "world.replace('Myanmar','Burma',inplace = True)\n",
    "world.replace('Cape Verde','Cabo Verde',inplace = True)\n",
    "world.replace('Congo','Congo (Brazzaville)',inplace = True)\n",
    "world.replace('Democratic Republic of the Congo','Congo (Kinshasa)',inplace = True)\n",
    "world.replace('Ivory Coast',\"Cote d'Ivoire\",inplace = True)\n",
    "world.replace('Czech Republic','Czechia',inplace = True)\n",
    "world.replace('Swaziland','Eswatini',inplace = True)\n",
    "world.replace('South Korea','Korea, South',inplace = True)\n",
    "world.replace('Macedonia','North Macedonia',inplace = True)\n",
    "world.replace('St. Kitts and Nevis','Saint Kitts and Nevis',inplace = True)\n",
    "world.replace('St. Lucia','Saint Lucia',inplace = True)\n",
    "world.replace('St. Vincent and the Grenadines','Saint Vincent and the Grenadines',inplace = True)\n",
    "world.replace('Taiwan','Taiwan*',inplace = True)\n",
    "world.replace('East Timor','Timor-Leste',inplace = True)\n",
    "world.replace('United States','US',inplace = True)\n",
    "world.replace('Palestine','West Bank and Gaza',inplace = True)"
   ]
  },
  {
   "cell_type": "code",
   "execution_count": null,
   "metadata": {},
   "outputs": [],
   "source": [
    "merge = world.join(confirmed,on = 'COUNTRY',how = 'right')\n",
    "merge = merge.dropna(subset=['geometry'])"
   ]
  },
  {
   "cell_type": "code",
   "execution_count": null,
   "metadata": {},
   "outputs": [],
   "source": [
    "image = []\n",
    "for date in list(confirmed.columns):\n",
    "    fig5 = merge.plot(column=date, cmap='OrRd',\n",
    "               legend = True, \n",
    "               edgecolor = 'black',\n",
    "               scheme = 'UserDefined',\n",
    "               figsize = (20,20),\n",
    "               classification_kwds = {'bins':[1000,2000,5000,\n",
    "                                              10000,20000,50000,100000,200000,500000,\n",
    "                                              1000000,2000000,5000000,10000000,20000000]},\n",
    "               legend_kwds = dict(\n",
    "                   loc = 'lower left',\n",
    "                   title=\"Covid-19 Cases\",\n",
    "                   )\n",
    "\n",
    "              )\n",
    "    fig5.set_title(\"Confirmed Cases \"+date,fontsize = 20,pad = 25)\n",
    "    fig5.set_axis_off()\n",
    "    imag = fig5.get_figure()\n",
    "\n",
    "    f = io.BytesIO()\n",
    "    imag.savefig(f,format='png')\n",
    "    f.seek(0)\n",
    "    image.append(PIL.Image.open(f))\n",
    "image[0].save('Dynamic_Covid-19_map.gif',\n",
    "              format = 'GIF',\n",
    "              append_images = image[1:],\n",
    "              save_all = True,\n",
    "              duration = 360,loop =0\n",
    "             )\n",
    "\n",
    "f.close()"
   ]
  },
  {
   "cell_type": "code",
   "execution_count": null,
   "metadata": {},
   "outputs": [],
   "source": [
    "image = []"
   ]
  },
  {
   "cell_type": "code",
   "execution_count": null,
   "metadata": {},
   "outputs": [],
   "source": []
  }
 ],
 "metadata": {
  "kernelspec": {
   "display_name": "Python 3",
   "language": "python",
   "name": "python3"
  },
  "language_info": {
   "codemirror_mode": {
    "name": "ipython",
    "version": 3
   },
   "file_extension": ".py",
   "mimetype": "text/x-python",
   "name": "python",
   "nbconvert_exporter": "python",
   "pygments_lexer": "ipython3",
   "version": "3.8.3"
  }
 },
 "nbformat": 4,
 "nbformat_minor": 4
}
